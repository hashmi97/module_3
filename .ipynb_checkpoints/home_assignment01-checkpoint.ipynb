{
 "cells": [
  {
   "cell_type": "markdown",
   "metadata": {},
   "source": [
    "### Home assignment 01.\n",
    "\n",
    "Your goal is to follow this notebook and complete all the steps.\n",
    "\n",
    "Please, solve all these excersises (both on python and bash) _using the remote machine_: either in jupyter notebook or using bash.\n",
    "\n",
    "We ask you to start with signing this notebook in the following cell and printing some tech information. Please, just run the second cell without any changes.\n",
    "\n",
    "Good luck!"
   ]
  },
  {
   "cell_type": "code",
   "execution_count": 1,
   "metadata": {},
   "outputs": [],
   "source": [
    "first_name = 'Hisham'\n",
    "last_name = 'Al Hashmi'"
   ]
  },
  {
   "cell_type": "code",
   "execution_count": 2,
   "metadata": {},
   "outputs": [
    {
     "name": "stdout",
     "output_type": "stream",
     "text": [
      "['/home/ml32020/hisham_al_hashmi/module_3', '/home/ml32020/hisham_al_hashmi/miniconda3/lib/python39.zip', '/home/ml32020/hisham_al_hashmi/miniconda3/lib/python3.9', '/home/ml32020/hisham_al_hashmi/miniconda3/lib/python3.9/lib-dynload', '', '/home/ml32020/hisham_al_hashmi/miniconda3/lib/python3.9/site-packages', '/home/ml32020/hisham_al_hashmi/miniconda3/lib/python3.9/site-packages/IPython/extensions', '/home/ml32020/hisham_al_hashmi/.ipython']\n",
      "3.9.5 (default, Jun  4 2021, 12:28:51) \n",
      "[GCC 7.5.0]\n"
     ]
    }
   ],
   "source": [
    "import sys\n",
    "print(sys.path)\n",
    "print(sys.version)"
   ]
  },
  {
   "cell_type": "markdown",
   "metadata": {},
   "source": [
    "#### Excersise 0\n",
    "Import `this` and read the zen of Python."
   ]
  },
  {
   "cell_type": "code",
   "execution_count": 3,
   "metadata": {},
   "outputs": [
    {
     "name": "stdout",
     "output_type": "stream",
     "text": [
      "The Zen of Python, by Tim Peters\n",
      "\n",
      "Beautiful is better than ugly.\n",
      "Explicit is better than implicit.\n",
      "Simple is better than complex.\n",
      "Complex is better than complicated.\n",
      "Flat is better than nested.\n",
      "Sparse is better than dense.\n",
      "Readability counts.\n",
      "Special cases aren't special enough to break the rules.\n",
      "Although practicality beats purity.\n",
      "Errors should never pass silently.\n",
      "Unless explicitly silenced.\n",
      "In the face of ambiguity, refuse the temptation to guess.\n",
      "There should be one-- and preferably only one --obvious way to do it.\n",
      "Although that way may not be obvious at first unless you're Dutch.\n",
      "Now is better than never.\n",
      "Although never is often better than *right* now.\n",
      "If the implementation is hard to explain, it's a bad idea.\n",
      "If the implementation is easy to explain, it may be a good idea.\n",
      "Namespaces are one honking great idea -- let's do more of those!\n"
     ]
    }
   ],
   "source": [
    "import this"
   ]
  },
  {
   "cell_type": "code",
   "execution_count": 4,
   "metadata": {},
   "outputs": [],
   "source": [
    "student_has_read_zen_of_python = True\n",
    "assert student_has_read_zen_of_python"
   ]
  },
  {
   "cell_type": "markdown",
   "metadata": {},
   "source": [
    "#### Excersise 1\n",
    "\n",
    "Read the docs on `isinstance` method and check whether the following objects belong to the proposed types (hint: `isinstance`).\n",
    "\n",
    "Additional excersise: visualize this correspondance matrix (object – type), e.g. using numpy and [pcolormesh](https://matplotlib.org/stable/api/_as_gen/matplotlib.pyplot.pcolormesh.html) for visualization."
   ]
  },
  {
   "cell_type": "code",
   "execution_count": 5,
   "metadata": {},
   "outputs": [],
   "source": [
    "list_of_objects = [\n",
    "    int,\n",
    "    2,\n",
    "    2.,\n",
    "    None,\n",
    "    object,\n",
    "    str,\n",
    "    str(2.),\n",
    "    float('2.0'),\n",
    "    'hello',\n",
    "    this,\n",
    "    dict,\n",
    "    list,\n",
    "    [dict],\n",
    "    {1: []}\n",
    "]\n",
    "\n",
    "list_of_types = [\n",
    "    int,\n",
    "    float,\n",
    "    object,\n",
    "    type(this), #Since module is not a keyword, type(this) works better.\n",
    "    str,\n",
    "    dict,\n",
    "    list\n",
    "]\n"
   ]
  },
  {
   "cell_type": "code",
   "execution_count": 6,
   "metadata": {},
   "outputs": [
    {
     "data": {
      "text/plain": [
       "[(int, [object]),\n",
       " (2, [int, object]),\n",
       " (2.0, [float, object]),\n",
       " (None, [object]),\n",
       " (object, [object]),\n",
       " (str, [object]),\n",
       " ('2.0', [object, str]),\n",
       " (2.0, [float, object]),\n",
       " ('hello', [object, str]),\n",
       " (<module 'this' from '/home/ml32020/hisham_al_hashmi/miniconda3/lib/python3.9/this.py'>,\n",
       "  [object, module]),\n",
       " (dict, [object]),\n",
       " (list, [object]),\n",
       " ([dict], [object, list]),\n",
       " ({1: []}, [object, dict])]"
      ]
     },
     "execution_count": 6,
     "metadata": {},
     "output_type": "execute_result"
    }
   ],
   "source": [
    "my_dict = {}\n",
    "for i, obj in enumerate(list_of_objects):\n",
    "    my_dict[i] = []\n",
    "    for ty in list_of_types:\n",
    "        if isinstance(obj, ty):\n",
    "            my_dict[i].append(ty)\n",
    "answer = list(zip(list_of_objects, my_dict.values()))\n",
    "answer"
   ]
  },
  {
   "cell_type": "markdown",
   "metadata": {},
   "source": [
    "#### Excersise 2\n",
    "\n",
    "Set quotient and remainder of 89 divided by 11 to \"a\" and \"b\" variables *"
   ]
  },
  {
   "cell_type": "code",
   "execution_count": 29,
   "metadata": {},
   "outputs": [
    {
     "name": "stdout",
     "output_type": "stream",
     "text": [
      "8 1\n"
     ]
    }
   ],
   "source": [
    "a = 89 // 11\n",
    "b = 89 % 11 \n",
    "print(a, b)"
   ]
  },
  {
   "cell_type": "markdown",
   "metadata": {},
   "source": [
    "#### Excersise 3\n",
    "\n",
    "Calculate the next cells:\n",
    "```\n",
    "0) 10 ** 1000\n",
    "1) 1.0 / 10 ** 1000\n",
    "2) 1 / 10 ** 1000\n",
    "3) 10 ** 1000 / 1\n",
    "4) 1 / (1 / 10 ** 1000)\n",
    "```"
   ]
  },
  {
   "cell_type": "code",
   "execution_count": 31,
   "metadata": {
    "scrolled": false
   },
   "outputs": [
    {
     "name": "stdout",
     "output_type": "stream",
     "text": [
      "10000000000000000000000000000000000000000000000000000000000000000000000000000000000000000000000000000000000000000000000000000000000000000000000000000000000000000000000000000000000000000000000000000000000000000000000000000000000000000000000000000000000000000000000000000000000000000000000000000000000000000000000000000000000000000000000000000000000000000000000000000000000000000000000000000000000000000000000000000000000000000000000000000000000000000000000000000000000000000000000000000000000000000000000000000000000000000000000000000000000000000000000000000000000000000000000000000000000000000000000000000000000000000000000000000000000000000000000000000000000000000000000000000000000000000000000000000000000000000000000000000000000000000000000000000000000000000000000000000000000000000000000000000000000000000000000000000000000000000000000000000000000000000000000000000000000000000000000000000000000000000000000000000000000000000000000000000000000000000000000000000000000000000000000000000000000000000\n"
     ]
    }
   ],
   "source": [
    "# 1\n",
    "print(10 ** 1000)"
   ]
  },
  {
   "cell_type": "code",
   "execution_count": 30,
   "metadata": {},
   "outputs": [
    {
     "name": "stdout",
     "output_type": "stream",
     "text": [
      "Expression failed due to OF error\n"
     ]
    },
    {
     "data": {
      "text/plain": [
       "0.0"
      ]
     },
     "execution_count": 30,
     "metadata": {},
     "output_type": "execute_result"
    }
   ],
   "source": [
    "# 2\n",
    "try:\n",
    "    print(1.0 / 10 ** 1000)\n",
    "except OverflowError:\n",
    "    print(\"Expression failed due to OF error\")\n",
    "    pass\n",
    "# This returns an overflow error. But we can approximate this as \n",
    "10. ** (-1000)"
   ]
  },
  {
   "cell_type": "code",
   "execution_count": 10,
   "metadata": {},
   "outputs": [
    {
     "name": "stdout",
     "output_type": "stream",
     "text": [
      "0.0\n"
     ]
    }
   ],
   "source": [
    "# 3\n",
    "print(1 / 10 ** 1000) "
   ]
  },
  {
   "cell_type": "code",
   "execution_count": 11,
   "metadata": {},
   "outputs": [
    {
     "name": "stdout",
     "output_type": "stream",
     "text": [
      "Expression failed due to DBZ error\n",
      "10000000000000000000000000000000000000000000000000000000000000000000000000000000000000000000000000000000000000000000000000000000000000000000000000000000000000000000000000000000000000000000000000000000000000000000000000000000000000000000000000000000000000000000000000000000000000000000000000000000000000000000000000000000000000000000000000000000000000000000000000000000000000000000000000000000000000000000000000000000000000000000000000000000000000000000000000000000000000000000000000000000000000000000000000000000000000000000000000000000000000000000000000000000000000000000000000000000000000000000000000000000000000000000000000000000000000000000000000000000000000000000000000000000000000000000000000000000000000000000000000000000000000000000000000000000000000000000000000000000000000000000000000000000000000000000000000000000000000000000000000000000000000000000000000000000000000000000000000000000000000000000000000000000000000000000000000000000000000000000000000000000000000000000000000000000000000000\n"
     ]
    }
   ],
   "source": [
    "# 2\n",
    "try:\n",
    "    print(1 / (1 / 10 ** 1000) )\n",
    "except ZeroDivisionError:\n",
    "    print(\"Expression failed due to DBZ error\")\n",
    "    pass\n",
    "# This returns a division by zero error. But we can approximate this as \n",
    "\n",
    "print(10 ** 1000)"
   ]
  },
  {
   "cell_type": "markdown",
   "metadata": {},
   "source": [
    "How to avoid these behaviours to receive correct results in steps 1-4?\n",
    "\n",
    "It is enough to provide your thoughts / seach the web for decisions and share the links / point to specific constructions in Python which were constructed to solve this problem."
   ]
  },
  {
   "cell_type": "markdown",
   "metadata": {},
   "source": [
    "_Your answer here_\n",
    "\n",
    "\n",
    "Look at each of those problems. "
   ]
  },
  {
   "cell_type": "markdown",
   "metadata": {},
   "source": [
    "#### Excersise 4.1\n",
    "\n",
    "Check if string is a correct integer\n"
   ]
  },
  {
   "cell_type": "code",
   "execution_count": 12,
   "metadata": {},
   "outputs": [],
   "source": [
    "# YOUR CODE HERE\n",
    "def isInt(st):\n",
    "    try: \n",
    "        int(st)\n",
    "        return True\n",
    "    except Exception as e:\n",
    "        print(\"Not an int due to :\", e)\n",
    "        return False\n"
   ]
  },
  {
   "cell_type": "markdown",
   "metadata": {},
   "source": [
    "#### Excersise 4.2\n",
    "\n",
    "Create a palindrom from given string. For example, \"abc\" -> \"abcba\""
   ]
  },
  {
   "cell_type": "code",
   "execution_count": 13,
   "metadata": {},
   "outputs": [
    {
     "data": {
      "text/plain": [
       "'abcba'"
      ]
     },
     "execution_count": 13,
     "metadata": {},
     "output_type": "execute_result"
    }
   ],
   "source": [
    "# YOUR CODE HERE\n",
    "def createPali(st):\n",
    "    return st+st[:-1][::-1]\n",
    "\n",
    "createPali(\"abc\")"
   ]
  },
  {
   "cell_type": "markdown",
   "metadata": {},
   "source": [
    "#### Excersise 4.3\n",
    "\n",
    "User inputs one's name into \"name\" variable. One can use `lowercase`, `UPPERCASE`, or `sOmeTHingLikeThatCaSE`. You need to turn this string into regular case used with names: `Firstletterisbigothersaresmall`."
   ]
  },
  {
   "cell_type": "code",
   "execution_count": 14,
   "metadata": {},
   "outputs": [
    {
     "name": "stdout",
     "output_type": "stream",
     "text": [
      "Helloiamuser\n",
      "Johndeere\n",
      "Firstnamelastname\n"
     ]
    }
   ],
   "source": [
    "name1 = 'HellOIamUsER'\n",
    "name2 = 'johndeere'\n",
    "name3 = 'FIRSTNAMELASTNAME'\n",
    "# YOUR CODE HERE\n",
    "def makeNameNormal(st):\n",
    "    return st[0].upper() + st[1:].lower()\n",
    "print(makeNameNormal(name1))\n",
    "print(makeNameNormal(name2))\n",
    "print(makeNameNormal(name3))"
   ]
  },
  {
   "cell_type": "markdown",
   "metadata": {},
   "source": [
    "#### Excersise 4.4\n",
    "\n",
    "You have a string that consists of English letters and \".\", \",\", \"-\", \"!\", \"?\", \":\", \";\" symbols. Extract all words without punctuation from this string."
   ]
  },
  {
   "cell_type": "code",
   "execution_count": 26,
   "metadata": {},
   "outputs": [
    {
     "data": {
      "text/plain": [
       "'this is a thing with stuff lol'"
      ]
     },
     "execution_count": 26,
     "metadata": {},
     "output_type": "execute_result"
    }
   ],
   "source": [
    "# YOUR CODE HERE\n",
    "def remove_punc(st):\n",
    "    str_list = list(filter(lambda x: x not in [\".\", \",\", \"-\", \"!\", \"?\", \":\", \";\"], list(st)))\n",
    "    return ''.join(str_list)\n",
    "\n",
    "\n",
    "remove_punc(\"this, is. a! thing? with -stuff;: lol.\")"
   ]
  },
  {
   "cell_type": "markdown",
   "metadata": {},
   "source": [
    "#### Excersise 4.5\n",
    "\n",
    "Assign string `\"\"\"'''\\/'''\"\"\"` to Python variable (all 14 symbols)\n"
   ]
  },
  {
   "cell_type": "code",
   "execution_count": 16,
   "metadata": {},
   "outputs": [
    {
     "name": "stdout",
     "output_type": "stream",
     "text": [
      "\"\"\"'''\\/'''\"\"\"\n"
     ]
    }
   ],
   "source": [
    "# YOUR CODE HERE\n",
    "x = \"\\\"\\\"\\\"'''\\/'''\\\"\\\"\\\"\"\n",
    "print(x)"
   ]
  },
  {
   "cell_type": "markdown",
   "metadata": {},
   "source": [
    "#### Excersise 4.6\n",
    "\n",
    "Print pi number in a string  \"pi is approximately equal to ALMOSTPI\", where instead of ALMOSTPI you insert 22/7 with 3 digits after comma."
   ]
  },
  {
   "cell_type": "code",
   "execution_count": 17,
   "metadata": {},
   "outputs": [
    {
     "name": "stdout",
     "output_type": "stream",
     "text": [
      "pi is approximately equal to 3.143\n"
     ]
    }
   ],
   "source": [
    "# YOUR CODE HERE\n",
    "print(f\"pi is approximately equal to {22/7:.3f}\")"
   ]
  },
  {
   "cell_type": "markdown",
   "metadata": {},
   "source": [
    "#### Excersise 5\n",
    "\n",
    "You have multiline text inside string variable named `text`. Create list of lines from that text."
   ]
  },
  {
   "cell_type": "code",
   "execution_count": 18,
   "metadata": {},
   "outputs": [
    {
     "data": {
      "text/plain": [
       "['Lorem ipsum dolor sit amet.',\n",
       " 'Consectetur adipiscing elit.',\n",
       " 'Proin in malesuada nunc, id efficitur tellus.',\n",
       " 'Fusce a laoreet quam.',\n",
       " 'Fusce magna est, sagittis ac cursus nec.',\n",
       " 'pharetra sit amet ligula.']"
      ]
     },
     "execution_count": 18,
     "metadata": {},
     "output_type": "execute_result"
    }
   ],
   "source": [
    "# YOUR CODE HERE\n",
    "\n",
    "text = '''Lorem ipsum dolor sit amet.\n",
    "Consectetur adipiscing elit.\n",
    "Proin in malesuada nunc, id efficitur tellus.\n",
    "Fusce a laoreet quam.\n",
    "Fusce magna est, sagittis ac cursus nec.\n",
    "pharetra sit amet ligula.'''\n",
    "\n",
    "str.splitlines(text)\n"
   ]
  },
  {
   "cell_type": "markdown",
   "metadata": {},
   "source": [
    "#### Excersise 5\n",
    "Answer with your own words to one of the following questions. Your variant is based on your name and computed automatically in the next cell.\n",
    "\n",
    "Variant 1:\n",
    "Imagine, you are developing a vending machine. You need to keep your vending machine state: which items are presented on which shelves, how much money inside machine to give change, how much money user inserted in current time, which purchases users made etc. You need to create a data structure for that using known data types.\n",
    "\n",
    "Variant 2:\n",
    "Imagine, you are developing a messenger with direct messages, groups, different media types of messages, etc. You need to keep your messenger state in memory: all users with their data, which chats they have, etc. You need to create a data structure for that using known data types.\n",
    "\n",
    "Variant 3:\n",
    "Imagine, you are developing a staff management system for a mid-size corporation. You need to keep all organizational structure in memory: departments, employees, their personal data, positions, salaries, history of growth, who is whose boss, etc. You need to create a data structure for that using known data types."
   ]
  },
  {
   "cell_type": "code",
   "execution_count": 36,
   "metadata": {},
   "outputs": [
    {
     "name": "stdout",
     "output_type": "stream",
     "text": [
      "Your variant is 2\n"
     ]
    }
   ],
   "source": [
    "variant = hash(' '.join([first_name, last_name])) % 3 + 1\n",
    "print(f'Your variant is {variant}')"
   ]
  },
  {
   "cell_type": "markdown",
   "metadata": {},
   "source": [
    "_Your answer here_\n",
    "\n",
    "Each person will have an id which is an alpha-numerical constant, in addidion to thier names. The chat history can be stored as a blob. The chats will have to store the ids of the people who are chatting. And with more chats, we update the blob.\n",
    "\n"
   ]
  },
  {
   "cell_type": "markdown",
   "metadata": {},
   "source": [
    "#### Excersise 6\n",
    "\n",
    "Clear your current repository (remove all useless files).\n",
    "Then create a package named `assignment01`.\n",
    "\n",
    "In the `assignment01` package you should have two `.py` files:\n",
    "\n",
    "```\n",
    "get_date.py\n",
    "get_time.py\n",
    "```\n",
    "File `get_date.py` contains only function `ding()` which returns the current date in format `yyyy-mm-dd`\n",
    "\n",
    "File `get_time.py` contains only function `dong()` which  returns the \n",
    "current time in 24h format `hh:mm:ss`\n",
    "\n",
    "Import these files and call the functions in the next cell."
   ]
  },
  {
   "cell_type": "code",
   "execution_count": null,
   "metadata": {},
   "outputs": [],
   "source": [
    "# YOUR CODE HERE\n",
    "from assignment01 import get_date, get_time\n",
    "print(get_date.ding())\n",
    "print(get_time.dong())"
   ]
  },
  {
   "cell_type": "markdown",
   "metadata": {},
   "source": [
    "#### Excersise 7\n",
    "\n",
    "Create the `.gitignore` file in the current repository and enshure git will ignore jupyter notebook checkpoints (hint: check the hidden directories) and python cache."
   ]
  },
  {
   "cell_type": "markdown",
   "metadata": {},
   "source": [
    "_Here you should interact with the command prompt_\n",
    "\n",
    "\n",
    "Done"
   ]
  },
  {
   "cell_type": "markdown",
   "metadata": {},
   "source": [
    "#### Excersise 8\n",
    "Create folder `shell_tools` in your repository.\n",
    "\n",
    "Solve the excersises from [this lesson](https://missing.csail.mit.edu/2020/shell-tools/) from the brilliant course by MIT: https://missing.csail.mit.edu\n",
    "\n",
    "Place your solutions in the `shell_tools` directory. It should contain one file for each step except step 2 (named `step0*`) with bash commands. Step 2 already requires you to write `marco` and `polo` scripts)."
   ]
  },
  {
   "cell_type": "markdown",
   "metadata": {},
   "source": [
    "_Here you should interact with the command prompt_"
   ]
  },
  {
   "cell_type": "markdown",
   "metadata": {},
   "source": [
    "#### Excersise 9\n",
    "\n",
    "Move this notebook to the repository directory (unless it is already there), commit and push all updates to the remote. Thes sync it to the local machine and check that this exact notebook runs (Kernel –> Restart and run all) without any changes."
   ]
  },
  {
   "cell_type": "code",
   "execution_count": 38,
   "metadata": {},
   "outputs": [
    {
     "ename": "SyntaxError",
     "evalue": "invalid syntax (2425854118.py, line 1)",
     "output_type": "error",
     "traceback": [
      "\u001b[0;36m  File \u001b[0;32m\"/tmp/ipykernel_5025/2425854118.py\"\u001b[0;36m, line \u001b[0;32m1\u001b[0m\n\u001b[0;31m    notebook_runs_on_local_machine_without_any_changes = # True or False\u001b[0m\n\u001b[0m                                                         ^\u001b[0m\n\u001b[0;31mSyntaxError\u001b[0m\u001b[0;31m:\u001b[0m invalid syntax\n"
     ]
    }
   ],
   "source": [
    "notebook_runs_on_local_machine_without_any_changes = # True or False\n",
    "assert notebook_runs_on_local_machine_without_any_changes"
   ]
  },
  {
   "cell_type": "markdown",
   "metadata": {},
   "source": [
    "### Sumbitting your home assignment\n",
    "Push your results to the remote repository and share the link to it in the Google Classroom.\n",
    "\n",
    "Congratulations!"
   ]
  }
 ],
 "metadata": {
  "kernelspec": {
   "display_name": "Python 3 (ipykernel)",
   "language": "python",
   "name": "python3"
  },
  "language_info": {
   "codemirror_mode": {
    "name": "ipython",
    "version": 3
   },
   "file_extension": ".py",
   "mimetype": "text/x-python",
   "name": "python",
   "nbconvert_exporter": "python",
   "pygments_lexer": "ipython3",
   "version": "3.9.5"
  }
 },
 "nbformat": 4,
 "nbformat_minor": 4
}
